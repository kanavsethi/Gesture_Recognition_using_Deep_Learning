{
 "cells": [
  {
   "cell_type": "markdown",
   "metadata": {},
   "source": [
    "# Gesture Recognition\n",
    "In this group project, you are going to build a 3D Conv model that will be able to predict the 5 gestures correctly. Please import the following libraries to get started."
   ]
  },
  {
   "cell_type": "code",
   "execution_count": 1,
   "metadata": {},
   "outputs": [],
   "source": [
    "import datetime\n",
    "import os\n",
    "\n",
    "import numpy as np\n",
    "\n",
    "# from scipy.misc import imread, imresize\n",
    "from PIL import Image"
   ]
  },
  {
   "cell_type": "markdown",
   "metadata": {},
   "source": [
    "We set the random seed so that the results don't vary drastically."
   ]
  },
  {
   "cell_type": "code",
   "execution_count": 2,
   "metadata": {},
   "outputs": [],
   "source": [
    "np.random.seed(30)\n",
    "import random as rn\n",
    "\n",
    "rn.seed(30)\n",
    "import tensorflow as tf\n",
    "from tensorflow.keras import backend as K\n",
    "\n",
    "tf.random.set_seed(30)"
   ]
  },
  {
   "cell_type": "markdown",
   "metadata": {},
   "source": [
    "In this block, you read the folder names for training and validation. You also set the `batch_size` here. Note that you set the batch size in such a way that you are able to use the GPU in full capacity. You keep increasing the batch size until the machine throws an error."
   ]
  },
  {
   "cell_type": "code",
   "execution_count": 3,
   "metadata": {},
   "outputs": [],
   "source": [
    "train_doc = np.random.permutation(open(\"./Data/train.csv\").readlines())\n",
    "val_doc = np.random.permutation(open(\"./Data/val.csv\").readlines())\n",
    "batch_size = 4"
   ]
  },
  {
   "cell_type": "markdown",
   "metadata": {},
   "source": [
    "## Generator\n",
    "This is one of the most important part of the code. The overall structure of the generator has been given. In the generator, you are going to preprocess the images as you have images of 2 different dimensions as well as create a batch of video frames. You have to experiment with some of the parts of the generator function such that you get high accuracy."
   ]
  },
  {
   "cell_type": "code",
   "execution_count": 4,
   "metadata": {},
   "outputs": [],
   "source": [
    "def generator(source_path, folder_list, batch_size):\n",
    "    print(\"Source path = \", source_path, \"; batch size =\", batch_size)\n",
    "    img_idx = [0, 1, 2, 4, 6, 8, 10, 12, 14, 16, 18, 20, 22, 24, 26, 27, 28, 29]\n",
    "    while True:\n",
    "        t = np.random.permutation(folder_list)\n",
    "        num_batches = int(len(t) / batch_size)\n",
    "        for batch in range(num_batches):\n",
    "            batch_data = np.zeros((batch_size, 18, 84, 84, 3))\n",
    "            batch_labels = np.zeros((batch_size, 5))\n",
    "            for folder in range(batch_size):\n",
    "                imgs = os.listdir(\n",
    "                    source_path + \"/\" + t[folder + (batch * batch_size)].split(\";\")[0]\n",
    "                )\n",
    "                for idx, item in enumerate(img_idx):\n",
    "                    image = Image.open(\n",
    "                        source_path\n",
    "                        + \"/\"\n",
    "                        + t[folder + (batch * batch_size)].strip().split(\";\")[0]\n",
    "                        + \"/\"\n",
    "                        + imgs[item]\n",
    "                    )\n",
    "\n",
    "                    if image.size[1] == 160:\n",
    "                        image = image.resize((84, 84))\n",
    "                    else:\n",
    "                        image = image.resize((84, 84))\n",
    "\n",
    "                    image = np.array(image).astype(np.float32)\n",
    "\n",
    "                    batch_data[folder, idx, :, :, 0] = image[:, :, 0] - 104\n",
    "                    batch_data[folder, idx, :, :, 1] = image[:, :, 1] - 117\n",
    "                    batch_data[folder, idx, :, :, 2] = image[:, :, 2] - 123\n",
    "\n",
    "                batch_labels[\n",
    "                    folder, int(t[folder + (batch * batch_size)].strip().split(\";\")[2])\n",
    "                ] = 1\n",
    "            yield batch_data, batch_labels\n",
    "\n",
    "        if (len(t) % batch_size) != 0:\n",
    "            batch_data = np.zeros((len(t) % batch_size, 18, 84, 84, 3))\n",
    "            batch_labels = np.zeros((len(t) % batch_size, 5))\n",
    "            for folder in range(len(t) % batch_size):\n",
    "                imgs = os.listdir(\n",
    "                    source_path\n",
    "                    + \"/\"\n",
    "                    + t[folder + (num_batches * batch_size)].split(\";\")[0]\n",
    "                )\n",
    "                for idx, item in enumerate(img_idx):\n",
    "                    image = Image.open(\n",
    "                        source_path\n",
    "                        + \"/\"\n",
    "                        + t[folder + (num_batches * batch_size)].strip().split(\";\")[0]\n",
    "                        + \"/\"\n",
    "                        + imgs[item]\n",
    "                    )\n",
    "\n",
    "                    if image.size[1] == 160:\n",
    "                        image = image.resize((84, 84))\n",
    "                    else:\n",
    "                        image = image.resize((84, 84))\n",
    "                    image = np.array(image).astype(np.float32)\n",
    "\n",
    "                    batch_data[folder, idx, :, :, 0] = image[:, :, 0] - 104\n",
    "                    batch_data[folder, idx, :, :, 1] = image[:, :, 1] - 117\n",
    "                    batch_data[folder, idx, :, :, 2] = image[:, :, 2] - 123\n",
    "\n",
    "                batch_labels[\n",
    "                    folder,\n",
    "                    int(t[folder + (num_batches * batch_size)].strip().split(\";\")[2]),\n",
    "                ] = 1\n",
    "\n",
    "            yield batch_data, batch_labels"
   ]
  },
  {
   "cell_type": "code",
   "execution_count": 5,
   "metadata": {},
   "outputs": [
    {
     "name": "stdout",
     "output_type": "stream",
     "text": [
      "# training sequences = 663\n",
      "# validation sequences = 100\n",
      "# epochs = 30\n"
     ]
    }
   ],
   "source": [
    "curr_dt_time = datetime.datetime.now()\n",
    "train_path = \"./Data/train\"\n",
    "val_path = \"./Data/val\"\n",
    "num_train_sequences = len(train_doc)\n",
    "print(\"# training sequences =\", num_train_sequences)\n",
    "num_val_sequences = len(val_doc)\n",
    "print(\"# validation sequences =\", num_val_sequences)\n",
    "num_epochs = 30\n",
    "print(\"# epochs =\", num_epochs)"
   ]
  },
  {
   "cell_type": "markdown",
   "metadata": {},
   "source": [
    "## Model\n",
    "Here you make the model using different functionalities that Keras provides. Remember to use `Conv3D` and `MaxPooling3D` and not `Conv2D` and `Maxpooling2D`. Also remember that the last layer is the softmax. Remember that the network is designed in such a way that the model is able to fit in the memory of the webcam."
   ]
  },
  {
   "cell_type": "code",
   "execution_count": 6,
   "metadata": {},
   "outputs": [],
   "source": [
    "from tensorflow.keras import optimizers\n",
    "from tensorflow.keras.callbacks import ModelCheckpoint, ReduceLROnPlateau\n",
    "from tensorflow.keras.layers import (\n",
    "    GRU,\n",
    "    Activation,\n",
    "    BatchNormalization,\n",
    "    Conv3D,\n",
    "    Dense,\n",
    "    Dropout,\n",
    "    Flatten,\n",
    "    MaxPooling3D,\n",
    ")\n",
    "from tensorflow.keras.models import Sequential\n",
    "\n",
    "model = Sequential()\n",
    "model.add(\n",
    "    Conv3D(\n",
    "        64, (3, 3, 3), strides=(1, 1, 1), padding=\"same\", input_shape=(18, 84, 84, 3)\n",
    "    )\n",
    ")\n",
    "model.add(BatchNormalization())\n",
    "model.add(Activation(\"elu\"))\n",
    "model.add(MaxPooling3D(pool_size=(2, 2, 1), strides=(2, 2, 1)))\n",
    "\n",
    "model.add(Conv3D(128, (3, 3, 3), strides=(1, 1, 1), padding=\"same\"))\n",
    "model.add(BatchNormalization())\n",
    "model.add(Activation(\"elu\"))\n",
    "model.add(MaxPooling3D(pool_size=(2, 2, 2), strides=(2, 2, 2)))\n",
    "\n",
    "# model.add(Dropout(0.25))\n",
    "\n",
    "model.add(Conv3D(256, (3, 3, 3), strides=(1, 1, 1), padding=\"same\"))\n",
    "model.add(BatchNormalization())\n",
    "model.add(Activation(\"elu\"))\n",
    "model.add(MaxPooling3D(pool_size=(2, 2, 2), strides=(2, 2, 2)))\n",
    "\n",
    "# model.add(Dropout(0.25))\n",
    "\n",
    "model.add(Conv3D(256, (3, 3, 3), strides=(1, 1, 1), padding=\"same\"))\n",
    "model.add(BatchNormalization())\n",
    "model.add(Activation(\"elu\"))\n",
    "model.add(MaxPooling3D(pool_size=(2, 2, 2), strides=(2, 2, 2)))\n",
    "\n",
    "model.add(Flatten())\n",
    "model.add(Dropout(0.5))\n",
    "model.add(Dense(512, activation=\"elu\"))\n",
    "model.add(Dropout(0.5))\n",
    "model.add(Dense(5, activation=\"softmax\"))"
   ]
  },
  {
   "cell_type": "markdown",
   "metadata": {},
   "source": [
    "Now that you have written the model, the next step is to `compile` the model. When you print the `summary` of the model, you'll see the total number of parameters you have to train."
   ]
  },
  {
   "cell_type": "code",
   "execution_count": 7,
   "metadata": {},
   "outputs": [
    {
     "name": "stdout",
     "output_type": "stream",
     "text": [
      "Model: \"sequential\"\n",
      "_________________________________________________________________\n",
      " Layer (type)                Output Shape              Param #   \n",
      "=================================================================\n",
      " conv3d (Conv3D)             (None, 18, 84, 84, 64)    5248      \n",
      "                                                                 \n",
      " batch_normalization (BatchN  (None, 18, 84, 84, 64)   256       \n",
      " ormalization)                                                   \n",
      "                                                                 \n",
      " activation (Activation)     (None, 18, 84, 84, 64)    0         \n",
      "                                                                 \n",
      " max_pooling3d (MaxPooling3D  (None, 9, 42, 84, 64)    0         \n",
      " )                                                               \n",
      "                                                                 \n",
      " conv3d_1 (Conv3D)           (None, 9, 42, 84, 128)    221312    \n",
      "                                                                 \n",
      " batch_normalization_1 (Batc  (None, 9, 42, 84, 128)   512       \n",
      " hNormalization)                                                 \n",
      "                                                                 \n",
      " activation_1 (Activation)   (None, 9, 42, 84, 128)    0         \n",
      "                                                                 \n",
      " max_pooling3d_1 (MaxPooling  (None, 4, 21, 42, 128)   0         \n",
      " 3D)                                                             \n",
      "                                                                 \n",
      " conv3d_2 (Conv3D)           (None, 4, 21, 42, 256)    884992    \n",
      "                                                                 \n",
      " batch_normalization_2 (Batc  (None, 4, 21, 42, 256)   1024      \n",
      " hNormalization)                                                 \n",
      "                                                                 \n",
      " activation_2 (Activation)   (None, 4, 21, 42, 256)    0         \n",
      "                                                                 \n",
      " max_pooling3d_2 (MaxPooling  (None, 2, 10, 21, 256)   0         \n",
      " 3D)                                                             \n",
      "                                                                 \n",
      " conv3d_3 (Conv3D)           (None, 2, 10, 21, 256)    1769728   \n",
      "                                                                 \n",
      " batch_normalization_3 (Batc  (None, 2, 10, 21, 256)   1024      \n",
      " hNormalization)                                                 \n",
      "                                                                 \n",
      " activation_3 (Activation)   (None, 2, 10, 21, 256)    0         \n",
      "                                                                 \n",
      " max_pooling3d_3 (MaxPooling  (None, 1, 5, 10, 256)    0         \n",
      " 3D)                                                             \n",
      "                                                                 \n",
      " flatten (Flatten)           (None, 12800)             0         \n",
      "                                                                 \n",
      " dropout (Dropout)           (None, 12800)             0         \n",
      "                                                                 \n",
      " dense (Dense)               (None, 512)               6554112   \n",
      "                                                                 \n",
      " dropout_1 (Dropout)         (None, 512)               0         \n",
      "                                                                 \n",
      " dense_1 (Dense)             (None, 5)                 2565      \n",
      "                                                                 \n",
      "=================================================================\n",
      "Total params: 9,440,773\n",
      "Trainable params: 9,439,365\n",
      "Non-trainable params: 1,408\n",
      "_________________________________________________________________\n",
      "None\n"
     ]
    }
   ],
   "source": [
    "sgd = optimizers.SGD(learning_rate=0.001, decay=1e-6, momentum=0.7, nesterov=True)\n",
    "model.compile(\n",
    "    optimizer=sgd, loss=\"categorical_crossentropy\", metrics=[\"categorical_accuracy\"]\n",
    ")\n",
    "print(model.summary())"
   ]
  },
  {
   "cell_type": "markdown",
   "metadata": {},
   "source": [
    "Let us create the `train_generator` and the `val_generator` which will be used in `.fit_generator`."
   ]
  },
  {
   "cell_type": "code",
   "execution_count": 8,
   "metadata": {},
   "outputs": [],
   "source": [
    "train_generator = generator(train_path, train_doc, batch_size)\n",
    "val_generator = generator(val_path, val_doc, batch_size)"
   ]
  },
  {
   "cell_type": "code",
   "execution_count": 9,
   "metadata": {},
   "outputs": [],
   "source": [
    "model_name = (\n",
    "    \"./CheckPoints/\"\n",
    "    + \"model_init\"\n",
    "    + \"_\"\n",
    "    + str(curr_dt_time).replace(\" \", \"\").replace(\":\", \"_\")\n",
    "    + \"/\"\n",
    ")\n",
    "\n",
    "if not os.path.exists(model_name):\n",
    "    os.mkdir(model_name)\n",
    "\n",
    "filepath = (\n",
    "    model_name\n",
    "    + \"model-{epoch:05d}-{loss:.5f}-{categorical_accuracy:.5f}-{val_loss:.5f}-{val_categorical_accuracy:.5f}.h5\"\n",
    ")\n",
    "\n",
    "checkpoint = ModelCheckpoint(\n",
    "    filepath,\n",
    "    monitor=\"val_loss\",\n",
    "    verbose=1,\n",
    "    save_best_only=False,\n",
    "    save_weights_only=False,\n",
    "    mode=\"auto\",\n",
    "    save_freq=1,\n",
    ")\n",
    "\n",
    "LR = ReduceLROnPlateau(\n",
    "    monitor=\"val_loss\",\n",
    "    factor=0.5,\n",
    "    patience=2,\n",
    "    verbose=1,\n",
    "    mode=\"min\",\n",
    "    min_delta=0.0001,\n",
    "    cooldown=0,\n",
    "    min_lr=0.00001,\n",
    ")\n",
    "callbacks_list = [checkpoint, LR]\n",
    "# callbacks_list = [LR]"
   ]
  },
  {
   "cell_type": "code",
   "execution_count": 10,
   "metadata": {},
   "outputs": [],
   "source": [
    "if (num_train_sequences % batch_size) == 0:\n",
    "    steps_per_epoch = int(num_train_sequences / batch_size)\n",
    "else:\n",
    "    steps_per_epoch = (num_train_sequences // batch_size) + 1\n",
    "\n",
    "if (num_val_sequences % batch_size) == 0:\n",
    "    validation_steps = int(num_val_sequences / batch_size)\n",
    "else:\n",
    "    validation_steps = (num_val_sequences // batch_size) + 1"
   ]
  },
  {
   "cell_type": "markdown",
   "metadata": {},
   "source": [
    "Let us now fit the model. This will start training the model and with the help of the checkpoints, you'll be able to save the model at the end of each epoch."
   ]
  },
  {
   "cell_type": "code",
   "execution_count": 11,
   "metadata": {},
   "outputs": [
    {
     "name": "stdout",
     "output_type": "stream",
     "text": [
      "Source path =  ./Data/train ; batch size = 4\n",
      "Epoch 1/30\n",
      "166/166 [==============================] - ETA: 0s - loss: 3.6996 - categorical_accuracy: 0.3514Source path =  ./Data/val ; batch size = 4\n",
      "166/166 [==============================] - 383s 2s/step - loss: 3.6996 - categorical_accuracy: 0.3514 - val_loss: 1.3012 - val_categorical_accuracy: 0.5600 - lr: 0.0010\n",
      "Epoch 2/30\n",
      "166/166 [==============================] - 397s 2s/step - loss: 1.5130 - categorical_accuracy: 0.5083 - val_loss: 1.2301 - val_categorical_accuracy: 0.4800 - lr: 0.0010\n",
      "Epoch 3/30\n",
      "166/166 [==============================] - 413s 2s/step - loss: 1.0705 - categorical_accuracy: 0.6290 - val_loss: 1.0857 - val_categorical_accuracy: 0.5900 - lr: 0.0010\n",
      "Epoch 4/30\n",
      "166/166 [==============================] - 403s 2s/step - loss: 1.0385 - categorical_accuracy: 0.6742 - val_loss: 0.9146 - val_categorical_accuracy: 0.6600 - lr: 0.0010\n",
      "Epoch 5/30\n",
      "166/166 [==============================] - 396s 2s/step - loss: 0.7604 - categorical_accuracy: 0.7345 - val_loss: 0.6522 - val_categorical_accuracy: 0.7500 - lr: 0.0010\n",
      "Epoch 6/30\n",
      "166/166 [==============================] - 408s 2s/step - loss: 0.6343 - categorical_accuracy: 0.7707 - val_loss: 0.5882 - val_categorical_accuracy: 0.8000 - lr: 0.0010\n",
      "Epoch 7/30\n",
      "166/166 [==============================] - 395s 2s/step - loss: 0.5639 - categorical_accuracy: 0.8069 - val_loss: 0.4697 - val_categorical_accuracy: 0.7800 - lr: 0.0010\n",
      "Epoch 8/30\n",
      "166/166 [==============================] - 442s 3s/step - loss: 0.4779 - categorical_accuracy: 0.8281 - val_loss: 0.5757 - val_categorical_accuracy: 0.8300 - lr: 0.0010\n",
      "Epoch 9/30\n",
      "166/166 [==============================] - ETA: 0s - loss: 0.3981 - categorical_accuracy: 0.8537\n",
      "Epoch 9: ReduceLROnPlateau reducing learning rate to 0.0005000000237487257.\n",
      "166/166 [==============================] - 351s 2s/step - loss: 0.3981 - categorical_accuracy: 0.8537 - val_loss: 0.6807 - val_categorical_accuracy: 0.7900 - lr: 0.0010\n",
      "Epoch 10/30\n",
      "166/166 [==============================] - 273s 2s/step - loss: 0.3277 - categorical_accuracy: 0.8673 - val_loss: 0.4520 - val_categorical_accuracy: 0.8600 - lr: 5.0000e-04\n",
      "Epoch 11/30\n",
      "166/166 [==============================] - 273s 2s/step - loss: 0.2560 - categorical_accuracy: 0.8974 - val_loss: 0.4181 - val_categorical_accuracy: 0.8600 - lr: 5.0000e-04\n",
      "Epoch 12/30\n",
      "166/166 [==============================] - 274s 2s/step - loss: 0.2285 - categorical_accuracy: 0.9095 - val_loss: 0.3572 - val_categorical_accuracy: 0.8700 - lr: 5.0000e-04\n",
      "Epoch 13/30\n",
      "166/166 [==============================] - 273s 2s/step - loss: 0.1831 - categorical_accuracy: 0.9306 - val_loss: 0.3222 - val_categorical_accuracy: 0.8500 - lr: 5.0000e-04\n",
      "Epoch 14/30\n",
      "166/166 [==============================] - 273s 2s/step - loss: 0.1583 - categorical_accuracy: 0.9457 - val_loss: 0.4160 - val_categorical_accuracy: 0.8600 - lr: 5.0000e-04\n",
      "Epoch 15/30\n",
      "166/166 [==============================] - ETA: 0s - loss: 0.1930 - categorical_accuracy: 0.9336\n",
      "Epoch 15: ReduceLROnPlateau reducing learning rate to 0.0002500000118743628.\n",
      "166/166 [==============================] - 273s 2s/step - loss: 0.1930 - categorical_accuracy: 0.9336 - val_loss: 0.3929 - val_categorical_accuracy: 0.9000 - lr: 5.0000e-04\n",
      "Epoch 16/30\n",
      "166/166 [==============================] - 273s 2s/step - loss: 0.1221 - categorical_accuracy: 0.9548 - val_loss: 0.3093 - val_categorical_accuracy: 0.9000 - lr: 2.5000e-04\n",
      "Epoch 17/30\n",
      "166/166 [==============================] - 273s 2s/step - loss: 0.1428 - categorical_accuracy: 0.9502 - val_loss: 0.3393 - val_categorical_accuracy: 0.8600 - lr: 2.5000e-04\n",
      "Epoch 18/30\n",
      "166/166 [==============================] - ETA: 0s - loss: 0.1026 - categorical_accuracy: 0.9608\n",
      "Epoch 18: ReduceLROnPlateau reducing learning rate to 0.0001250000059371814.\n",
      "166/166 [==============================] - 273s 2s/step - loss: 0.1026 - categorical_accuracy: 0.9608 - val_loss: 0.3977 - val_categorical_accuracy: 0.8500 - lr: 2.5000e-04\n",
      "Epoch 19/30\n",
      "166/166 [==============================] - 273s 2s/step - loss: 0.1083 - categorical_accuracy: 0.9578 - val_loss: 0.2888 - val_categorical_accuracy: 0.9100 - lr: 1.2500e-04\n",
      "Epoch 20/30\n",
      "166/166 [==============================] - 275s 2s/step - loss: 0.0877 - categorical_accuracy: 0.9668 - val_loss: 0.3689 - val_categorical_accuracy: 0.8700 - lr: 1.2500e-04\n",
      "Epoch 21/30\n",
      "166/166 [==============================] - ETA: 0s - loss: 0.0865 - categorical_accuracy: 0.9623\n",
      "Epoch 21: ReduceLROnPlateau reducing learning rate to 6.25000029685907e-05.\n",
      "166/166 [==============================] - 274s 2s/step - loss: 0.0865 - categorical_accuracy: 0.9623 - val_loss: 0.3226 - val_categorical_accuracy: 0.9000 - lr: 1.2500e-04\n",
      "Epoch 22/30\n",
      "166/166 [==============================] - 273s 2s/step - loss: 0.1026 - categorical_accuracy: 0.9638 - val_loss: 0.3373 - val_categorical_accuracy: 0.8800 - lr: 6.2500e-05\n",
      "Epoch 23/30\n",
      "166/166 [==============================] - ETA: 0s - loss: 0.0727 - categorical_accuracy: 0.9668\n",
      "Epoch 23: ReduceLROnPlateau reducing learning rate to 3.125000148429535e-05.\n",
      "166/166 [==============================] - 274s 2s/step - loss: 0.0727 - categorical_accuracy: 0.9668 - val_loss: 0.3440 - val_categorical_accuracy: 0.8800 - lr: 6.2500e-05\n",
      "Epoch 24/30\n",
      "166/166 [==============================] - 309s 2s/step - loss: 0.0868 - categorical_accuracy: 0.9653 - val_loss: 0.3274 - val_categorical_accuracy: 0.9000 - lr: 3.1250e-05\n",
      "Epoch 25/30\n",
      "166/166 [==============================] - ETA: 0s - loss: 0.0838 - categorical_accuracy: 0.9729\n",
      "Epoch 25: ReduceLROnPlateau reducing learning rate to 1.5625000742147677e-05.\n",
      "166/166 [==============================] - 398s 2s/step - loss: 0.0838 - categorical_accuracy: 0.9729 - val_loss: 0.3083 - val_categorical_accuracy: 0.8900 - lr: 3.1250e-05\n",
      "Epoch 26/30\n",
      "166/166 [==============================] - 397s 2s/step - loss: 0.0779 - categorical_accuracy: 0.9759 - val_loss: 0.3165 - val_categorical_accuracy: 0.8900 - lr: 1.5625e-05\n",
      "Epoch 27/30\n",
      "166/166 [==============================] - ETA: 0s - loss: 0.0741 - categorical_accuracy: 0.9744\n",
      "Epoch 27: ReduceLROnPlateau reducing learning rate to 1e-05.\n",
      "166/166 [==============================] - 398s 2s/step - loss: 0.0741 - categorical_accuracy: 0.9744 - val_loss: 0.3174 - val_categorical_accuracy: 0.8900 - lr: 1.5625e-05\n",
      "Epoch 28/30\n",
      "166/166 [==============================] - 397s 2s/step - loss: 0.0761 - categorical_accuracy: 0.9759 - val_loss: 0.3304 - val_categorical_accuracy: 0.8800 - lr: 1.0000e-05\n",
      "Epoch 29/30\n",
      "166/166 [==============================] - 401s 2s/step - loss: 0.0786 - categorical_accuracy: 0.9683 - val_loss: 0.3406 - val_categorical_accuracy: 0.8800 - lr: 1.0000e-05\n",
      "Epoch 30/30\n",
      "166/166 [==============================] - 416s 3s/step - loss: 0.0603 - categorical_accuracy: 0.9834 - val_loss: 0.3588 - val_categorical_accuracy: 0.8900 - lr: 1.0000e-05\n"
     ]
    }
   ],
   "source": [
    "tf.debugging.set_log_device_placement(True)\n",
    "\n",
    "\n",
    "# Explicitly place tensors on the DirectML device\n",
    "\n",
    "with tf.device(\"/GPU:0\"):\n",
    "    model.fit(\n",
    "        train_generator,\n",
    "        steps_per_epoch=steps_per_epoch,\n",
    "        epochs=num_epochs,\n",
    "        verbose=1,\n",
    "        callbacks=callbacks_list,\n",
    "        validation_data=val_generator,\n",
    "        validation_steps=validation_steps,\n",
    "        class_weight=None,\n",
    "        workers=1,\n",
    "        initial_epoch=0,\n",
    "    )"
   ]
  },
  {
   "cell_type": "code",
   "execution_count": 13,
   "metadata": {
    "editable": true,
    "slideshow": {
     "slide_type": ""
    },
    "tags": []
   },
   "outputs": [],
   "source": [
    "model.save(\"temp.h5\",save_format=\"tf\")"
   ]
  },
  {
   "cell_type": "code",
   "execution_count": null,
   "metadata": {},
   "outputs": [],
   "source": []
  }
 ],
 "metadata": {
  "kernelspec": {
   "display_name": "Python 3 (ipykernel)",
   "language": "python",
   "name": "python3"
  },
  "language_info": {
   "codemirror_mode": {
    "name": "ipython",
    "version": 3
   },
   "file_extension": ".py",
   "mimetype": "text/x-python",
   "name": "python",
   "nbconvert_exporter": "python",
   "pygments_lexer": "ipython3",
   "version": "3.10.4"
  }
 },
 "nbformat": 4,
 "nbformat_minor": 4
}
